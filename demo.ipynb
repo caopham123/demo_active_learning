{
 "cells": [
  {
   "cell_type": "code",
   "execution_count": 20,
   "id": "8e574180",
   "metadata": {},
   "outputs": [
    {
     "name": "stdout",
     "output_type": "stream",
     "text": [
      "Requirement already satisfied: transformers[torch] in d:\\longson\\projects\\demo_active_learning\\.venv\\lib\\site-packages (4.56.1)\n",
      "Requirement already satisfied: filelock in d:\\longson\\projects\\demo_active_learning\\.venv\\lib\\site-packages (from transformers[torch]) (3.19.1)\n",
      "Requirement already satisfied: huggingface-hub<1.0,>=0.34.0 in d:\\longson\\projects\\demo_active_learning\\.venv\\lib\\site-packages (from transformers[torch]) (0.34.4)\n",
      "Requirement already satisfied: numpy>=1.17 in d:\\longson\\projects\\demo_active_learning\\.venv\\lib\\site-packages (from transformers[torch]) (2.3.3)\n",
      "Requirement already satisfied: packaging>=20.0 in d:\\longson\\projects\\demo_active_learning\\.venv\\lib\\site-packages (from transformers[torch]) (25.0)\n",
      "Requirement already satisfied: pyyaml>=5.1 in d:\\longson\\projects\\demo_active_learning\\.venv\\lib\\site-packages (from transformers[torch]) (6.0.2)\n",
      "Requirement already satisfied: regex!=2019.12.17 in d:\\longson\\projects\\demo_active_learning\\.venv\\lib\\site-packages (from transformers[torch]) (2025.9.1)\n",
      "Requirement already satisfied: requests in d:\\longson\\projects\\demo_active_learning\\.venv\\lib\\site-packages (from transformers[torch]) (2.32.5)\n",
      "Requirement already satisfied: tokenizers<=0.23.0,>=0.22.0 in d:\\longson\\projects\\demo_active_learning\\.venv\\lib\\site-packages (from transformers[torch]) (0.22.0)\n",
      "Requirement already satisfied: safetensors>=0.4.3 in d:\\longson\\projects\\demo_active_learning\\.venv\\lib\\site-packages (from transformers[torch]) (0.6.2)\n",
      "Requirement already satisfied: tqdm>=4.27 in d:\\longson\\projects\\demo_active_learning\\.venv\\lib\\site-packages (from transformers[torch]) (4.67.1)\n",
      "Requirement already satisfied: torch>=2.2 in d:\\longson\\projects\\demo_active_learning\\.venv\\lib\\site-packages (from transformers[torch]) (2.8.0)\n",
      "Requirement already satisfied: accelerate>=0.26.0 in d:\\longson\\projects\\demo_active_learning\\.venv\\lib\\site-packages (from transformers[torch]) (1.10.1)\n",
      "Requirement already satisfied: psutil in d:\\longson\\projects\\demo_active_learning\\.venv\\lib\\site-packages (from accelerate>=0.26.0->transformers[torch]) (7.0.0)\n",
      "Requirement already satisfied: fsspec>=2023.5.0 in d:\\longson\\projects\\demo_active_learning\\.venv\\lib\\site-packages (from huggingface-hub<1.0,>=0.34.0->transformers[torch]) (2025.3.0)\n",
      "Requirement already satisfied: typing-extensions>=3.7.4.3 in d:\\longson\\projects\\demo_active_learning\\.venv\\lib\\site-packages (from huggingface-hub<1.0,>=0.34.0->transformers[torch]) (4.15.0)\n",
      "Requirement already satisfied: sympy>=1.13.3 in d:\\longson\\projects\\demo_active_learning\\.venv\\lib\\site-packages (from torch>=2.2->transformers[torch]) (1.14.0)\n",
      "Requirement already satisfied: networkx in d:\\longson\\projects\\demo_active_learning\\.venv\\lib\\site-packages (from torch>=2.2->transformers[torch]) (3.5)\n",
      "Requirement already satisfied: jinja2 in d:\\longson\\projects\\demo_active_learning\\.venv\\lib\\site-packages (from torch>=2.2->transformers[torch]) (3.1.6)\n",
      "Requirement already satisfied: colorama in d:\\longson\\projects\\demo_active_learning\\.venv\\lib\\site-packages (from tqdm>=4.27->transformers[torch]) (0.4.6)\n",
      "Requirement already satisfied: charset_normalizer<4,>=2 in d:\\longson\\projects\\demo_active_learning\\.venv\\lib\\site-packages (from requests->transformers[torch]) (3.4.3)\n",
      "Requirement already satisfied: idna<4,>=2.5 in d:\\longson\\projects\\demo_active_learning\\.venv\\lib\\site-packages (from requests->transformers[torch]) (3.10)\n",
      "Requirement already satisfied: urllib3<3,>=1.21.1 in d:\\longson\\projects\\demo_active_learning\\.venv\\lib\\site-packages (from requests->transformers[torch]) (2.5.0)\n",
      "Requirement already satisfied: certifi>=2017.4.17 in d:\\longson\\projects\\demo_active_learning\\.venv\\lib\\site-packages (from requests->transformers[torch]) (2025.8.3)\n",
      "Requirement already satisfied: mpmath<1.4,>=1.1.0 in d:\\longson\\projects\\demo_active_learning\\.venv\\lib\\site-packages (from sympy>=1.13.3->torch>=2.2->transformers[torch]) (1.3.0)\n",
      "Requirement already satisfied: MarkupSafe>=2.0 in d:\\longson\\projects\\demo_active_learning\\.venv\\lib\\site-packages (from jinja2->torch>=2.2->transformers[torch]) (3.0.2)\n"
     ]
    },
    {
     "name": "stderr",
     "output_type": "stream",
     "text": [
      "\n",
      "[notice] A new release of pip available: 22.3 -> 25.2\n",
      "[notice] To update, run: python.exe -m pip install --upgrade pip\n"
     ]
    },
    {
     "name": "stdout",
     "output_type": "stream",
     "text": [
      "Requirement already satisfied: small-text in d:\\longson\\projects\\demo_active_learning\\.venv\\lib\\site-packages (1.4.1)\n",
      "Requirement already satisfied: dill in d:\\longson\\projects\\demo_active_learning\\.venv\\lib\\site-packages (from small-text) (0.3.8)\n",
      "Requirement already satisfied: scipy in d:\\longson\\projects\\demo_active_learning\\.venv\\lib\\site-packages (from small-text) (1.16.2)\n",
      "Requirement already satisfied: numpy>=1.20.0 in d:\\longson\\projects\\demo_active_learning\\.venv\\lib\\site-packages (from small-text) (2.3.3)\n",
      "Requirement already satisfied: scikit-learn>=0.24.1 in d:\\longson\\projects\\demo_active_learning\\.venv\\lib\\site-packages (from small-text) (1.7.2)\n",
      "Requirement already satisfied: tqdm in d:\\longson\\projects\\demo_active_learning\\.venv\\lib\\site-packages (from small-text) (4.67.1)\n",
      "Requirement already satisfied: packaging in d:\\longson\\projects\\demo_active_learning\\.venv\\lib\\site-packages (from small-text) (25.0)\n",
      "Requirement already satisfied: joblib>=1.2.0 in d:\\longson\\projects\\demo_active_learning\\.venv\\lib\\site-packages (from scikit-learn>=0.24.1->small-text) (1.5.2)\n",
      "Requirement already satisfied: threadpoolctl>=3.1.0 in d:\\longson\\projects\\demo_active_learning\\.venv\\lib\\site-packages (from scikit-learn>=0.24.1->small-text) (3.6.0)\n",
      "Requirement already satisfied: colorama in d:\\longson\\projects\\demo_active_learning\\.venv\\lib\\site-packages (from tqdm->small-text) (0.4.6)\n"
     ]
    },
    {
     "name": "stderr",
     "output_type": "stream",
     "text": [
      "\n",
      "[notice] A new release of pip available: 22.3 -> 25.2\n",
      "[notice] To update, run: python.exe -m pip install --upgrade pip\n"
     ]
    },
    {
     "name": "stdout",
     "output_type": "stream",
     "text": [
      "Requirement already satisfied: datasets==4.1.0 in d:\\longson\\projects\\demo_active_learning\\.venv\\lib\\site-packages (4.1.0)\n",
      "Requirement already satisfied: filelock in d:\\longson\\projects\\demo_active_learning\\.venv\\lib\\site-packages (from datasets==4.1.0) (3.19.1)\n",
      "Requirement already satisfied: numpy>=1.17 in d:\\longson\\projects\\demo_active_learning\\.venv\\lib\\site-packages (from datasets==4.1.0) (2.3.3)\n",
      "Requirement already satisfied: pyarrow>=21.0.0 in d:\\longson\\projects\\demo_active_learning\\.venv\\lib\\site-packages (from datasets==4.1.0) (21.0.0)\n",
      "Requirement already satisfied: dill<0.4.1,>=0.3.0 in d:\\longson\\projects\\demo_active_learning\\.venv\\lib\\site-packages (from datasets==4.1.0) (0.3.8)\n",
      "Requirement already satisfied: pandas in d:\\longson\\projects\\demo_active_learning\\.venv\\lib\\site-packages (from datasets==4.1.0) (2.3.2)\n",
      "Requirement already satisfied: requests>=2.32.2 in d:\\longson\\projects\\demo_active_learning\\.venv\\lib\\site-packages (from datasets==4.1.0) (2.32.5)\n",
      "Requirement already satisfied: tqdm>=4.66.3 in d:\\longson\\projects\\demo_active_learning\\.venv\\lib\\site-packages (from datasets==4.1.0) (4.67.1)\n",
      "Requirement already satisfied: xxhash in d:\\longson\\projects\\demo_active_learning\\.venv\\lib\\site-packages (from datasets==4.1.0) (3.5.0)\n",
      "Requirement already satisfied: multiprocess<0.70.17 in d:\\longson\\projects\\demo_active_learning\\.venv\\lib\\site-packages (from datasets==4.1.0) (0.70.16)\n",
      "Requirement already satisfied: fsspec[http]<=2025.9.0,>=2023.1.0 in d:\\longson\\projects\\demo_active_learning\\.venv\\lib\\site-packages (from datasets==4.1.0) (2025.3.0)\n",
      "Requirement already satisfied: huggingface-hub>=0.24.0 in d:\\longson\\projects\\demo_active_learning\\.venv\\lib\\site-packages (from datasets==4.1.0) (0.34.4)\n",
      "Requirement already satisfied: packaging in d:\\longson\\projects\\demo_active_learning\\.venv\\lib\\site-packages (from datasets==4.1.0) (25.0)\n",
      "Requirement already satisfied: pyyaml>=5.1 in d:\\longson\\projects\\demo_active_learning\\.venv\\lib\\site-packages (from datasets==4.1.0) (6.0.2)\n",
      "Requirement already satisfied: aiohttp!=4.0.0a0,!=4.0.0a1 in d:\\longson\\projects\\demo_active_learning\\.venv\\lib\\site-packages (from fsspec[http]<=2025.9.0,>=2023.1.0->datasets==4.1.0) (3.12.15)\n",
      "Requirement already satisfied: typing-extensions>=3.7.4.3 in d:\\longson\\projects\\demo_active_learning\\.venv\\lib\\site-packages (from huggingface-hub>=0.24.0->datasets==4.1.0) (4.15.0)\n",
      "Requirement already satisfied: charset_normalizer<4,>=2 in d:\\longson\\projects\\demo_active_learning\\.venv\\lib\\site-packages (from requests>=2.32.2->datasets==4.1.0) (3.4.3)\n",
      "Requirement already satisfied: idna<4,>=2.5 in d:\\longson\\projects\\demo_active_learning\\.venv\\lib\\site-packages (from requests>=2.32.2->datasets==4.1.0) (3.10)\n",
      "Requirement already satisfied: urllib3<3,>=1.21.1 in d:\\longson\\projects\\demo_active_learning\\.venv\\lib\\site-packages (from requests>=2.32.2->datasets==4.1.0) (2.5.0)\n",
      "Requirement already satisfied: certifi>=2017.4.17 in d:\\longson\\projects\\demo_active_learning\\.venv\\lib\\site-packages (from requests>=2.32.2->datasets==4.1.0) (2025.8.3)\n",
      "Requirement already satisfied: colorama in d:\\longson\\projects\\demo_active_learning\\.venv\\lib\\site-packages (from tqdm>=4.66.3->datasets==4.1.0) (0.4.6)\n",
      "Requirement already satisfied: python-dateutil>=2.8.2 in d:\\longson\\projects\\demo_active_learning\\.venv\\lib\\site-packages (from pandas->datasets==4.1.0) (2.9.0.post0)\n",
      "Requirement already satisfied: pytz>=2020.1 in d:\\longson\\projects\\demo_active_learning\\.venv\\lib\\site-packages (from pandas->datasets==4.1.0) (2025.2)\n",
      "Requirement already satisfied: tzdata>=2022.7 in d:\\longson\\projects\\demo_active_learning\\.venv\\lib\\site-packages (from pandas->datasets==4.1.0) (2025.2)\n",
      "Requirement already satisfied: aiohappyeyeballs>=2.5.0 in d:\\longson\\projects\\demo_active_learning\\.venv\\lib\\site-packages (from aiohttp!=4.0.0a0,!=4.0.0a1->fsspec[http]<=2025.9.0,>=2023.1.0->datasets==4.1.0) (2.6.1)\n",
      "Requirement already satisfied: aiosignal>=1.4.0 in d:\\longson\\projects\\demo_active_learning\\.venv\\lib\\site-packages (from aiohttp!=4.0.0a0,!=4.0.0a1->fsspec[http]<=2025.9.0,>=2023.1.0->datasets==4.1.0) (1.4.0)\n",
      "Requirement already satisfied: attrs>=17.3.0 in d:\\longson\\projects\\demo_active_learning\\.venv\\lib\\site-packages (from aiohttp!=4.0.0a0,!=4.0.0a1->fsspec[http]<=2025.9.0,>=2023.1.0->datasets==4.1.0) (25.3.0)\n",
      "Requirement already satisfied: frozenlist>=1.1.1 in d:\\longson\\projects\\demo_active_learning\\.venv\\lib\\site-packages (from aiohttp!=4.0.0a0,!=4.0.0a1->fsspec[http]<=2025.9.0,>=2023.1.0->datasets==4.1.0) (1.7.0)\n",
      "Requirement already satisfied: multidict<7.0,>=4.5 in d:\\longson\\projects\\demo_active_learning\\.venv\\lib\\site-packages (from aiohttp!=4.0.0a0,!=4.0.0a1->fsspec[http]<=2025.9.0,>=2023.1.0->datasets==4.1.0) (6.6.4)\n",
      "Requirement already satisfied: propcache>=0.2.0 in d:\\longson\\projects\\demo_active_learning\\.venv\\lib\\site-packages (from aiohttp!=4.0.0a0,!=4.0.0a1->fsspec[http]<=2025.9.0,>=2023.1.0->datasets==4.1.0) (0.3.2)\n",
      "Requirement already satisfied: yarl<2.0,>=1.17.0 in d:\\longson\\projects\\demo_active_learning\\.venv\\lib\\site-packages (from aiohttp!=4.0.0a0,!=4.0.0a1->fsspec[http]<=2025.9.0,>=2023.1.0->datasets==4.1.0) (1.20.1)\n",
      "Requirement already satisfied: six>=1.5 in d:\\longson\\projects\\demo_active_learning\\.venv\\lib\\site-packages (from python-dateutil>=2.8.2->pandas->datasets==4.1.0) (1.17.0)\n"
     ]
    },
    {
     "name": "stderr",
     "output_type": "stream",
     "text": [
      "\n",
      "[notice] A new release of pip available: 22.3 -> 25.2\n",
      "[notice] To update, run: python.exe -m pip install --upgrade pip\n"
     ]
    },
    {
     "name": "stdout",
     "output_type": "stream",
     "text": [
      "Requirement already satisfied: numpy in d:\\longson\\projects\\demo_active_learning\\.venv\\lib\\site-packages (2.3.3)\n"
     ]
    },
    {
     "name": "stderr",
     "output_type": "stream",
     "text": [
      "\n",
      "[notice] A new release of pip available: 22.3 -> 25.2\n",
      "[notice] To update, run: python.exe -m pip install --upgrade pip\n"
     ]
    },
    {
     "name": "stdout",
     "output_type": "stream",
     "text": [
      "Requirement already satisfied: scikit-learn in d:\\longson\\projects\\demo_active_learning\\.venv\\lib\\site-packages (1.7.2)\n",
      "Requirement already satisfied: numpy>=1.22.0 in d:\\longson\\projects\\demo_active_learning\\.venv\\lib\\site-packages (from scikit-learn) (2.3.3)\n",
      "Requirement already satisfied: scipy>=1.8.0 in d:\\longson\\projects\\demo_active_learning\\.venv\\lib\\site-packages (from scikit-learn) (1.16.2)\n",
      "Requirement already satisfied: joblib>=1.2.0 in d:\\longson\\projects\\demo_active_learning\\.venv\\lib\\site-packages (from scikit-learn) (1.5.2)\n",
      "Requirement already satisfied: threadpoolctl>=3.1.0 in d:\\longson\\projects\\demo_active_learning\\.venv\\lib\\site-packages (from scikit-learn) (3.6.0)\n"
     ]
    },
    {
     "name": "stderr",
     "output_type": "stream",
     "text": [
      "\n",
      "[notice] A new release of pip available: 22.3 -> 25.2\n",
      "[notice] To update, run: python.exe -m pip install --upgrade pip\n"
     ]
    },
    {
     "name": "stdout",
     "output_type": "stream",
     "text": [
      "Requirement already satisfied: matplotlib in d:\\longson\\projects\\demo_active_learning\\.venv\\lib\\site-packages (3.10.6)\n",
      "Requirement already satisfied: seaborn in d:\\longson\\projects\\demo_active_learning\\.venv\\lib\\site-packages (0.13.2)\n",
      "Requirement already satisfied: contourpy>=1.0.1 in d:\\longson\\projects\\demo_active_learning\\.venv\\lib\\site-packages (from matplotlib) (1.3.3)\n",
      "Requirement already satisfied: cycler>=0.10 in d:\\longson\\projects\\demo_active_learning\\.venv\\lib\\site-packages (from matplotlib) (0.12.1)\n",
      "Requirement already satisfied: fonttools>=4.22.0 in d:\\longson\\projects\\demo_active_learning\\.venv\\lib\\site-packages (from matplotlib) (4.59.2)\n",
      "Requirement already satisfied: kiwisolver>=1.3.1 in d:\\longson\\projects\\demo_active_learning\\.venv\\lib\\site-packages (from matplotlib) (1.4.9)\n",
      "Requirement already satisfied: numpy>=1.23 in d:\\longson\\projects\\demo_active_learning\\.venv\\lib\\site-packages (from matplotlib) (2.3.3)\n",
      "Requirement already satisfied: packaging>=20.0 in d:\\longson\\projects\\demo_active_learning\\.venv\\lib\\site-packages (from matplotlib) (25.0)\n",
      "Requirement already satisfied: pillow>=8 in d:\\longson\\projects\\demo_active_learning\\.venv\\lib\\site-packages (from matplotlib) (11.3.0)\n",
      "Requirement already satisfied: pyparsing>=2.3.1 in d:\\longson\\projects\\demo_active_learning\\.venv\\lib\\site-packages (from matplotlib) (3.2.4)\n",
      "Requirement already satisfied: python-dateutil>=2.7 in d:\\longson\\projects\\demo_active_learning\\.venv\\lib\\site-packages (from matplotlib) (2.9.0.post0)\n",
      "Requirement already satisfied: pandas>=1.2 in d:\\longson\\projects\\demo_active_learning\\.venv\\lib\\site-packages (from seaborn) (2.3.2)\n",
      "Requirement already satisfied: pytz>=2020.1 in d:\\longson\\projects\\demo_active_learning\\.venv\\lib\\site-packages (from pandas>=1.2->seaborn) (2025.2)\n",
      "Requirement already satisfied: tzdata>=2022.7 in d:\\longson\\projects\\demo_active_learning\\.venv\\lib\\site-packages (from pandas>=1.2->seaborn) (2025.2)\n",
      "Requirement already satisfied: six>=1.5 in d:\\longson\\projects\\demo_active_learning\\.venv\\lib\\site-packages (from python-dateutil>=2.7->matplotlib) (1.17.0)\n"
     ]
    },
    {
     "name": "stderr",
     "output_type": "stream",
     "text": [
      "\n",
      "[notice] A new release of pip available: 22.3 -> 25.2\n",
      "[notice] To update, run: python.exe -m pip install --upgrade pip\n"
     ]
    }
   ],
   "source": [
    "!pip install transformers[torch]\n",
    "!pip install small-text\n",
    "!pip install --upgrade datasets==4.1.0\n",
    "!pip install numpy\n",
    "!pip install scikit-learn\n",
    "!pip install matplotlib seaborn"
   ]
  },
  {
   "cell_type": "code",
   "execution_count": 28,
   "id": "dba81289",
   "metadata": {},
   "outputs": [],
   "source": [
    "import datasets, torch\n",
    "import numpy as np\n",
    "\n",
    "seed= 2024\n",
    "torch.manual_seed(seed)\n",
    "np.random.seed(seed)"
   ]
  },
  {
   "cell_type": "markdown",
   "id": "29c91ea8",
   "metadata": {},
   "source": [
    "Dataset Preparation"
   ]
  },
  {
   "cell_type": "code",
   "execution_count": 73,
   "id": "cbcc8e28",
   "metadata": {},
   "outputs": [],
   "source": [
    "from datasets import load_dataset_builder, load_dataset, get_dataset_split_names\n",
    "\n",
    "ds_path= \"cornell-movie-review-data/rotten_tomatoes\"\n",
    "ds_builder= load_dataset_builder(ds_path)\n",
    "tomatoes_ds= load_dataset(ds_path)\n",
    "\n"
   ]
  },
  {
   "cell_type": "code",
   "execution_count": 76,
   "id": "8dbb9ba0",
   "metadata": {},
   "outputs": [
    {
     "name": "stdout",
     "output_type": "stream",
     "text": [
      "\n",
      "{'text': Value('string'), 'label': ClassLabel(names=['neg', 'pos'])}\n",
      "['train', 'validation', 'test']\n"
     ]
    }
   ],
   "source": [
    "print(ds_builder.info.description)\n",
    "print(ds_builder.info.features)\n",
    "print(get_dataset_split_names(ds_path))\n"
   ]
  },
  {
   "cell_type": "code",
   "execution_count": 78,
   "id": "ea323996",
   "metadata": {},
   "outputs": [
    {
     "name": "stdout",
     "output_type": "stream",
     "text": [
      "{'text': ['the rock is destined to be the 21st century\\'s new \" conan \" and that he\\'s going to make a splash even greater than arnold schwarzenegger , jean-claud van damme or steven segal .'], 'label': [1]}\n"
     ]
    }
   ],
   "source": [
    "print(tomatoes_ds['train'][:1])"
   ]
  },
  {
   "cell_type": "code",
   "execution_count": 83,
   "id": "3388efd8",
   "metadata": {},
   "outputs": [],
   "source": [
    "from datasets import DatasetDict\n",
    "# On the train splited dataset.\n",
    "# 80% for training. 10% for validation. 10% for test\n",
    "train_test_val= tomatoes_ds['train'].train_test_split(test_size= .2)\n",
    "test_val= train_test_val['test'].train_test_split(test_size= .5)\n",
    "\n",
    "# Putting into a single DatasetDict\n",
    "dataset= DatasetDict({\n",
    "  \"train\": train_test_val['train'],\n",
    "  \"test\": test_val['test'],\n",
    "  \"validation\": test_val['train'],\n",
    "})"
   ]
  },
  {
   "cell_type": "code",
   "execution_count": 86,
   "id": "95b741a3",
   "metadata": {},
   "outputs": [
    {
     "name": "stdout",
     "output_type": "stream",
     "text": [
      "{'train': 2, 'test': 2, 'validation': 2}\n",
      "{'train': 6824, 'test': 853, 'validation': 853}\n",
      "{'text': 'a classy item by a legend who may have nothing left to prove but still has the chops and drive to show how its done .', 'label': 1}\n",
      "{'text': 'the unique tug-of-war with viewer expectations is undeniable , if not a pleasure in its own right .', 'label': 1}\n",
      "{'text': 'it is a likable story , told with competence .', 'label': 1}\n"
     ]
    }
   ],
   "source": [
    "print(dataset.num_columns)\n",
    "print(dataset.num_rows)\n",
    "print(dataset['train'][0])\n",
    "print(dataset['validation'][0])\n",
    "print(dataset['test'][0])"
   ]
  },
  {
   "cell_type": "code",
   "execution_count": 88,
   "id": "c2e4ec92",
   "metadata": {},
   "outputs": [
    {
     "name": "stderr",
     "output_type": "stream",
     "text": [
      "d:\\LONGSON\\PROJECTS\\demo_active_learning\\.venv\\Lib\\site-packages\\huggingface_hub\\file_download.py:143: UserWarning: `huggingface_hub` cache-system uses symlinks by default to efficiently store duplicated files but your machine does not support them in C:\\Users\\Cao-IT\\.cache\\huggingface\\hub\\models--bert-base-cased. Caching files will still work but in a degraded version that might require more space on your disk. This warning can be disabled by setting the `HF_HUB_DISABLE_SYMLINKS_WARNING` environment variable. For more details, see https://huggingface.co/docs/huggingface_hub/how-to-cache#limitations.\n",
      "To support symlinks on Windows, you either need to activate Developer Mode or to run Python as an administrator. In order to activate developer mode, see this article: https://docs.microsoft.com/en-us/windows/apps/get-started/enable-your-device-for-development\n",
      "  warnings.warn(message)\n"
     ]
    }
   ],
   "source": [
    "## Import AutoTokenizer to transform raw text into numberical tokens\n",
    "## Load the pre-trained model\n",
    "from transformers import AutoTokenizer\n",
    "model= \"bert-base-cased\"\n",
    "tokenizer= AutoTokenizer.from_pretrained(model)\n"
   ]
  },
  {
   "cell_type": "code",
   "execution_count": 94,
   "id": "8921ef65",
   "metadata": {},
   "outputs": [
    {
     "name": "stdout",
     "output_type": "stream",
     "text": [
      "ClassLabel(names=['neg', 'pos'])\n",
      "<class 'int'> 2\n"
     ]
    }
   ],
   "source": [
    "num_classes= dataset['train'].features[\"label\"]\n",
    "print(num_classes)\n",
    "num_classes= num_classes.num_classes\n",
    "print(type(num_classes), num_classes)"
   ]
  },
  {
   "cell_type": "code",
   "execution_count": 97,
   "id": "9555750f",
   "metadata": {},
   "outputs": [
    {
     "name": "stdout",
     "output_type": "stream",
     "text": [
      "Dataset({\n",
      "    features: ['text', 'label'],\n",
      "    num_rows: 6824\n",
      "})\n",
      "Column(['a classy item by a legend who may have nothing left to prove but still has the chops and drive to show how its done .', 'bogdanovich taps deep into the hearst mystique , entertainingly reenacting a historic scandal .', 'spare yet audacious . . .', \"one sloughs one's way through the mire of this alleged psychological thriller in search of purpose or even a plot .\", \"it's a lovely , eerie film that casts an odd , rapt spell .\"])\n",
      "Column([1, 1, 1, 0, 1])\n"
     ]
    }
   ],
   "source": [
    "print(dataset['train'])\n",
    "print(dataset['train']['text'])\n",
    "print(dataset['train']['label'])"
   ]
  },
  {
   "cell_type": "code",
   "execution_count": null,
   "id": "6b5b6087",
   "metadata": {},
   "outputs": [],
   "source": []
  }
 ],
 "metadata": {
  "kernelspec": {
   "display_name": ".venv",
   "language": "python",
   "name": "python3"
  },
  "language_info": {
   "codemirror_mode": {
    "name": "ipython",
    "version": 3
   },
   "file_extension": ".py",
   "mimetype": "text/x-python",
   "name": "python",
   "nbconvert_exporter": "python",
   "pygments_lexer": "ipython3",
   "version": "3.11.0"
  }
 },
 "nbformat": 4,
 "nbformat_minor": 5
}
